{
 "cells": [
  {
   "cell_type": "code",
   "execution_count": 59,
   "source": [
    "import numpy as np\n",
    "import matplotlib.pyplot as plt\n",
    "class ChessBoard:\n",
    "    def __init__(self):\n",
    "        self.grid = np.zeros((8,8,3))\n",
    "        div = 1\n",
    "        for col in range (8):\n",
    "            for row in range (8):\n",
    "                div = 0 if div else 1\n",
    "                if row %2 == div and col %2 == div:\n",
    "                    self.grid[col][row] = [1,1,1]\n",
    "\n",
    "    def add_red(self,row,col):\n",
    "        self.grid[col][row] = [1,0,0]\n",
    "\n",
    "    def add_blue(self,row,col):\n",
    "        self.grid[col][row] = [0,0,1]\n",
    "    \n",
    "    def render(self):\n",
    "        plt.imshow(self.grid)\n",
    "\n",
    "    def is_under_attack(self,red_row,red_col,blue_row,blue_col): #check if queens on the same rowm coloumn or diagonal\n",
    "        if red_row == blue_row or red_col == blue_col:\n",
    "            return True\n",
    "            # If queen can attack diagonally\n",
    "        if abs(red_row - blue_row) == abs(red_col - blue_col):\n",
    "            return True\n",
    "        \n",
    "        return False\n",
    "\n"
   ],
   "outputs": [],
   "metadata": {}
  },
  {
   "cell_type": "markdown",
   "source": [
    "# Rendering the chess board and check if red is under attack by a blue piece horizontally, vertically or diagonally."
   ],
   "metadata": {}
  },
  {
   "cell_type": "code",
   "execution_count": 61,
   "source": [
    "if __name__ == \"__main__\":\n",
    "    chb = ChessBoard()\n",
    "    chb.add_red(2,4)\n",
    "    chb.add_blue(4,4)\n",
    "    chb.render() \n",
    "    assert chb.is_under_attack(2,4,4,4) == True # test queens on same row should be “under attack”\n",
    "    # print(chb.is_under_attack(2,4,4,4))"
   ],
   "outputs": [
    {
     "output_type": "display_data",
     "data": {
      "text/plain": [
       "<Figure size 432x288 with 1 Axes>"
      ],
      "image/png": "[encoded data removed]"
     },
     "metadata": {
      "needs_background": "light"
     }
    }
   ],
   "metadata": {}
  },
  {
   "cell_type": "code",
   "execution_count": 62,
   "source": [
    "if __name__ == \"__main__\":\n",
    "    chb = ChessBoard()\n",
    "    chb.add_red(2,4)\n",
    "    chb.add_blue(2,2)\n",
    "    chb.render()\n",
    "    assert chb.is_under_attack(2,4,2,2) == True #queens on same column should be “under attack”\n",
    "    # print(chb.is_under_attack(2,4,2,2))"
   ],
   "outputs": [
    {
     "output_type": "display_data",
     "data": {
      "text/plain": [
       "<Figure size 432x288 with 1 Axes>"
      ],
      "image/png": "[encoded data removed]"
     },
     "metadata": {
      "needs_background": "light"
     }
    }
   ],
   "metadata": {}
  },
  {
   "cell_type": "code",
   "execution_count": 63,
   "source": [
    "if __name__ == \"__main__\":\n",
    "    chb = ChessBoard()\n",
    "    chb.add_red(2,4)\n",
    "    chb.add_blue(3,3)\n",
    "    chb.render()\n",
    "    assert chb.is_under_attack(2,4,3,3) == True #queens on same diagonal should be “under attack”\n",
    "    # print(chb.is_under_attack(2,4,3,3))"
   ],
   "outputs": [
    {
     "output_type": "display_data",
     "data": {
      "text/plain": [
       "<Figure size 432x288 with 1 Axes>"
      ],
      "image/png": "[encoded data removed]"
     },
     "metadata": {
      "needs_background": "light"
     }
    }
   ],
   "metadata": {}
  },
  {
   "cell_type": "code",
   "execution_count": 64,
   "source": [
    "if __name__ == \"__main__\":\n",
    "    chb = ChessBoard()\n",
    "    chb.add_red(2,4)\n",
    "    chb.add_blue(4,3)\n",
    "    chb.render()\n",
    "    assert chb.is_under_attack(2,4,4,3) == False #queens with any other coordinates should NOT be “under attack”\n",
    "    # print(chb.is_under_attack(2,4,4,3))"
   ],
   "outputs": [
    {
     "output_type": "display_data",
     "data": {
      "text/plain": [
       "<Figure size 432x288 with 1 Axes>"
      ],
      "image/png": "[encoded data removed]"
     },
     "metadata": {
      "needs_background": "light"
     }
    }
   ],
   "metadata": {}
  }
 ],
 "metadata": {
  "orig_nbformat": 4,
  "language_info": {
   "name": "python",
   "version": "3.9.6",
   "mimetype": "text/x-python",
   "codemirror_mode": {
    "name": "ipython",
    "version": 3
   },
   "pygments_lexer": "ipython3",
   "nbconvert_exporter": "python",
   "file_extension": ".py"
  },
  "kernelspec": {
   "name": "python3",
   "display_name": "Python 3.9.6 64-bit ('.venv': poetry)"
  },
  "interpreter": {
   "hash": "a9ecbf64010f3ddc6ebd37f37dca5cab002a9c86062327c91b62891fb3b67fe4"
  }
 },
 "nbformat": 4,
 "nbformat_minor": 2
}